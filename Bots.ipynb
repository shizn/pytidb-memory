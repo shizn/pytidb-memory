{
 "cells": [
  {
   "cell_type": "code",
   "execution_count": 9,
   "id": "90eef2a6",
   "metadata": {},
   "outputs": [
    {
     "name": "stdout",
     "output_type": "stream",
     "text": [
      "Note: you may need to restart the kernel to use updated packages.\n"
     ]
    }
   ],
   "source": [
    "%pip install -q pytidb \"pytidb[models]\" openai python-dotenv pandas"
   ]
  },
  {
   "cell_type": "code",
   "execution_count": 10,
   "id": "9b257a34",
   "metadata": {},
   "outputs": [],
   "source": [
    "import uuid\n",
    "import dotenv\n",
    "from datetime import datetime, timedelta\n",
    "from pytidb import TiDBClient\n",
    "from openai import OpenAI\n",
    "from pytidb.embeddings import EmbeddingFunction\n",
    "from pytidb.schema import TableModel, Field\n",
    "\n",
    "dotenv.load_dotenv()\n",
    "\n",
    "\n",
    "# 🧠 Set up the embedding function\n",
    "text_embed = EmbeddingFunction(\"openai/text-embedding-3-small\")\n",
    "\n",
    "import os\n",
    "\n",
    "db = TiDBClient.connect(\n",
    "    host=os.getenv(\"TIDB_HOST\"),\n",
    "    username=os.getenv(\"TIDB_USERNAME\"),\n",
    "    password=os.getenv(\"TIDB_PASSWORD\"),\n",
    "    database=os.getenv(\"TIDB_DATABASE\"),\n",
    "    port=int(os.getenv(\"TIDB_PORT\"))\n",
    ")\n",
    "\n",
    "# 🧾 Define the shared memory table schema\n",
    "class BotMemory(TableModel, table=True):\n",
    "    __tablename__ = \"memory\"\n",
    "    __table_args__ = {\"extend_existing\": True}\n",
    "\n",
    "    id: int = Field(primary_key=True)\n",
    "    agent_id: str = Field()\n",
    "    memory_type: str = Field()\n",
    "    content: str = Field()\n",
    "    embedding: list[float] = text_embed.VectorField(source_field=\"content\")\n",
    "    tags: str = Field()\n",
    "    visibility: str = Field()\n",
    "    expires_at: datetime = Field()\n",
    "    created_at: datetime = Field(default_factory=datetime.now)\n",
    "\n",
    "# 🔧 Create the table (if not already created)\n",
    "memory_table = db.create_table(schema=BotMemory)"
   ]
  },
  {
   "cell_type": "code",
   "execution_count": 11,
   "id": "6053c486",
   "metadata": {},
   "outputs": [
    {
     "name": "stdout",
     "output_type": "stream",
     "text": [
      "48060c0f-2846-4252-8208-b7e7fa922a84\n"
     ]
    },
    {
     "data": {
      "text/plain": [
       "[BotMemory(id=1, content='Refund processed for failed transaction.', tags='{\"topic\": \"refund\"}', expires_at=datetime.datetime(2025, 5, 5, 23, 7, 11), memory_type='case', agent_id='agent_a', embedding=array([-0.03695381,  0.00903409, -0.04897521, ..., -0.01637316,\n",
       "         0.00760955, -0.005055  ], dtype=float32), visibility='team', created_at=datetime.datetime(2025, 4, 5, 23, 7, 11)),\n",
       " BotMemory(id=2, content='Steps to manually trigger refund if auto-refund fails.', tags='{\"topic\": \"billing\"}', expires_at=datetime.datetime(2025, 5, 5, 23, 7, 11), memory_type='case', agent_id='agent_a', embedding=array([-0.04991492,  0.0643032 ,  0.0341817 , ..., -0.01978072,\n",
       "         0.00199044, -0.01672289], dtype=float32), visibility='team', created_at=datetime.datetime(2025, 4, 5, 23, 7, 11)),\n",
       " BotMemory(id=3, content='Policy allows refunds within 30 days unless caused by technical issues.', tags='{\"topic\": \"policy\"}', expires_at=datetime.datetime(2025, 5, 5, 23, 7, 11), memory_type='policy', agent_id='agent_b', embedding=array([-0.06371424,  0.0511606 , -0.00257433, ..., -0.01603083,\n",
       "         0.02347098,  0.00775974], dtype=float32), visibility='public', created_at=datetime.datetime(2025, 4, 5, 23, 7, 11))]"
      ]
     },
     "execution_count": 11,
     "metadata": {},
     "output_type": "execute_result"
    }
   ],
   "source": [
    "\n",
    "memory_table.truncate()  # Optional: clear old data for clean test\n",
    "\n",
    "# 🚀 Seed shared memory with example cases\n",
    "print(str(uuid.uuid4()))\n",
    "memories = [\n",
    "    BotMemory(\n",
    "        id=1,\n",
    "        agent_id=\"agent_a\",  # BillingBot\n",
    "        memory_type=\"case\",\n",
    "        content=\"Refund processed for failed transaction.\",\n",
    "        tags='{\"topic\": \"refund\"}',\n",
    "        visibility=\"team\",\n",
    "        expires_at=datetime.now() + timedelta(days=30),\n",
    "        created_at=datetime.now()\n",
    "    ),\n",
    "    BotMemory(\n",
    "        id=2,\n",
    "        agent_id=\"agent_a\",\n",
    "        memory_type=\"case\",\n",
    "        content=\"Steps to manually trigger refund if auto-refund fails.\",\n",
    "        tags='{\"topic\": \"billing\"}',\n",
    "        visibility=\"team\",\n",
    "        expires_at=datetime.now() + timedelta(days=30),\n",
    "        created_at=datetime.now()\n",
    "    ),\n",
    "    BotMemory(\n",
    "        id=3,\n",
    "        agent_id=\"agent_b\",  # PolicyBot\n",
    "        memory_type=\"policy\",\n",
    "        content=\"Policy allows refunds within 30 days unless caused by technical issues.\",\n",
    "        tags='{\"topic\": \"policy\"}',\n",
    "        visibility=\"public\",\n",
    "        expires_at=datetime.now() + timedelta(days=30),\n",
    "        created_at=datetime.now()\n",
    "    )\n",
    "]\n",
    "memory_table.bulk_insert(memories)"
   ]
  },
  {
   "cell_type": "code",
   "execution_count": 12,
   "id": "844a2a2c",
   "metadata": {},
   "outputs": [
    {
     "name": "stdout",
     "output_type": "stream",
     "text": [
      "\n",
      "🙋‍♂️ [Customer] I was charged twice and didn’t receive a refund yet.\n",
      "📥 [BillingBot] Retrieved shared memory for refund issue:\n",
      "- Refund processed for failed transaction.\n",
      "- Steps to manually trigger refund if auto-refund fails.\n",
      "- Policy allows refunds within 30 days unless caused by technical issues.\n",
      "\n",
      "🤖 [BillingBot Response]\n",
      "I see past cases where refunds were manually processed after sync issues.\n",
      "You can request a manual refund via the dashboard or I can trigger one now.\n",
      "\n",
      "🙋‍♂️ [Customer] Can I still get a refund after 30 days if I was wrongly charged?\n",
      "\n",
      "📥 [PolicyBot] Retrieved shared memory for refund policy:\n",
      "🧠 Policy allows refunds within 30 days unless caused by technical issues.\n",
      "\n",
      "🤖 [PolicyBot Response]\n",
      "Our policy allows refunds within 30 days, but we can make exceptions if it’s due to a technical error.\n"
     ]
    }
   ],
   "source": [
    "import pandas as pd\n",
    "\n",
    "# 💬 Customer Query 1: goes to BillingBot\n",
    "customer_query = \"I was charged twice and didn’t receive a refund yet.\"\n",
    "\n",
    "print(\"\\n🙋‍♂️ [Customer] \" + customer_query)\n",
    "\n",
    "# BillingBot does vector search to build context\n",
    "visibilities = [\"team\", \"public\"]\n",
    "results = []\n",
    "\n",
    "for v in visibilities:\n",
    "    partial = (\n",
    "        memory_table.search(customer_query)\n",
    "        .filter({\"visibility\": v})  # ✅ Only a single string, not a list\n",
    "        .limit(3)\n",
    "        .to_pandas()\n",
    "    )\n",
    "    results.append(partial)\n",
    "\n",
    "# Combine and remove duplicates\n",
    "combined = pd.concat(results).drop_duplicates(subset=[\"content\"]).head(3)\n",
    "\n",
    "print(\"📥 [BillingBot] Retrieved shared memory for refund issue:\")\n",
    "for _, row in combined.iterrows():\n",
    "    print(\"-\", row[\"content\"])\n",
    "\n",
    "# (Optional) Simulate a simple RAG-generated response\n",
    "print(\"\\n🤖 [BillingBot Response]\")\n",
    "print(\"I see past cases where refunds were manually processed after sync issues.\")\n",
    "print(\"You can request a manual refund via the dashboard or I can trigger one now.\")\n",
    "\n",
    "# 💬 Customer Query 2: goes to PolicyBot\n",
    "customer_query2 = \"Can I still get a refund after 30 days if I was wrongly charged?\"\n",
    "\n",
    "print(\"\\n🙋‍♂️ [Customer] \" + customer_query2)\n",
    "\n",
    "policy_results = (\n",
    "    memory_table.search(customer_query2)\n",
    "    .filter({\"visibility\": \"public\"}) \n",
    "    .limit(3)\n",
    "    .to_pandas()\n",
    ")\n",
    "\n",
    "print(\"\\n📥 [PolicyBot] Retrieved shared memory for refund policy:\")\n",
    "for _, row in policy_results.iterrows():\n",
    "    print(\"🧠\", row[\"content\"])\n",
    "\n",
    "print(\"\\n🤖 [PolicyBot Response]\")\n",
    "print(\"Our policy allows refunds within 30 days, but we can make exceptions if it’s due to a technical error.\")"
   ]
  }
 ],
 "metadata": {
  "kernelspec": {
   "display_name": "3.12.4",
   "language": "python",
   "name": "python3"
  },
  "language_info": {
   "codemirror_mode": {
    "name": "ipython",
    "version": 3
   },
   "file_extension": ".py",
   "mimetype": "text/x-python",
   "name": "python",
   "nbconvert_exporter": "python",
   "pygments_lexer": "ipython3",
   "version": "3.12.4"
  }
 },
 "nbformat": 4,
 "nbformat_minor": 5
}
