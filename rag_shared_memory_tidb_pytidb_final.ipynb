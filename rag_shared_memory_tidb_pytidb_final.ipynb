{
 "cells": [
  {
   "cell_type": "markdown",
   "metadata": {},
   "source": [
    "# 🧠 Agentic RAG with Shared Memory using TiDB Serverless + PyTiDB\n",
    "This notebook demonstrates how RAG agents share memory in TiDB Serverless using `pytidb`, vector embedding with OpenAI, and memory retrieval with vector search."
   ]
  },
  {
   "cell_type": "code",
   "execution_count": 19,
   "metadata": {},
   "outputs": [
    {
     "name": "stdout",
     "output_type": "stream",
     "text": [
      "Note: you may need to restart the kernel to use updated packages.\n"
     ]
    }
   ],
   "source": [
    "%pip install -q pytidb \"pytidb[models]\" openai python-dotenv pandas"
   ]
  },
  {
   "cell_type": "code",
   "execution_count": 20,
   "metadata": {},
   "outputs": [
    {
     "data": {
      "text/plain": [
       "True"
      ]
     },
     "execution_count": 20,
     "metadata": {},
     "output_type": "execute_result"
    }
   ],
   "source": [
    "import dotenv\n",
    "dotenv.load_dotenv()"
   ]
  },
  {
   "cell_type": "code",
   "execution_count": 21,
   "metadata": {},
   "outputs": [],
   "source": [
    "from pytidb import TiDBClient\n",
    "from openai import OpenAI\n",
    "from datetime import datetime\n",
    "\n",
    "import os\n",
    "\n",
    "db = TiDBClient.connect(\n",
    "    host=os.getenv(\"TIDB_HOST\"),\n",
    "    username=os.getenv(\"TIDB_USERNAME\"),\n",
    "    password=os.getenv(\"TIDB_PASSWORD\"),\n",
    "    database=os.getenv(\"TIDB_DATABASE\"),\n",
    "    port=int(os.getenv(\"TIDB_PORT\"))\n",
    ")\n"
   ]
  },
  {
   "cell_type": "code",
   "execution_count": 22,
   "metadata": {},
   "outputs": [
    {
     "name": "stderr",
     "output_type": "stream",
     "text": [
      "/Users/xin/.pyenv/versions/3.12.4/lib/python3.12/site-packages/sqlmodel/main.py:641: SAWarning: This declarative base already contains a class with the same class name and module name as __main__.Memory, and will be replaced in the string-lookup table.\n",
      "  DeclarativeMeta.__init__(cls, classname, bases, dict_, **kw)\n"
     ]
    }
   ],
   "source": [
    "# Create table for memory store with vector embedding\n",
    "from pytidb.schema import TableModel, Field\n",
    "from pytidb.embeddings import EmbeddingFunction\n",
    "dotenv.load_dotenv()\n",
    "# Define your embedding model.\n",
    "\n",
    "text_embed = EmbeddingFunction(\"openai/text-embedding-3-small\")\n",
    "\n",
    "\n",
    "class Memory(TableModel, table=True):\n",
    "    __tablename__ = \"memory\"\n",
    "    __table_args__ = {\"extend_existing\": True}\n",
    "\n",
    "    id: int = Field(primary_key=True)\n",
    "    agent_id: str = Field()\n",
    "    memory_type: str = Field()\n",
    "    content: str = Field()\n",
    "    embedding: list[float] = text_embed.VectorField(\n",
    "        source_field=\"content\"\n",
    "    )  # 👈 Define the vector field.\n",
    "    tags: str = Field()\n",
    "    visibility: str = Field()\n",
    "    expires_at: datetime = Field()\n",
    "    created_at: datetime = Field(default_factory=datetime.now)\n",
    "\n",
    "table = db.create_table(schema=Memory)"
   ]
  },
  {
   "cell_type": "code",
   "execution_count": 23,
   "metadata": {},
   "outputs": [
    {
     "name": "stdout",
     "output_type": "stream",
     "text": [
      "✅ Memory stored with ID: 1\n"
     ]
    }
   ],
   "source": [
    "from datetime import datetime, timedelta\n",
    "table.truncate()\n",
    "\n",
    "# Create the memory record — DO NOT assign `embedding` manually\n",
    "memory = Memory(\n",
    "    id=1,\n",
    "    agent_id=\"agent_a\",\n",
    "    memory_type=\"short\",\n",
    "    content=\"Refund processed for failed transaction.\",\n",
    "    tags='{\"topic\": \"refund\"}',\n",
    "    visibility=\"team\",\n",
    "    expires_at=datetime.now() + timedelta(days=2),\n",
    "    created_at=datetime.now(),\n",
    ")\n",
    "\n",
    "# This will auto-generate the embedding using `text_embed.VectorField(...)`\n",
    "table.insert(memory)\n",
    "\n",
    "print(\"✅ Memory stored with ID:\", memory.id)\n"
   ]
  },
  {
   "cell_type": "code",
   "execution_count": 24,
   "metadata": {},
   "outputs": [
    {
     "name": "stdout",
     "output_type": "stream",
     "text": [
      "\n",
      "📚 Retrieved shared memory:\n",
      "- Refund processed for failed transaction.\n"
     ]
    }
   ],
   "source": [
    "# Retrieve shared memory using vector similarity\n",
    "query = \"How to help a user with payment refund?\"\n",
    "\n",
    "res = (\n",
    "    table.search(query)\n",
    "    .filter({\"visibility\": \"team\"})  # Just one value first to avoid SQL error\n",
    "    .limit(3)\n",
    "    .to_pandas()\n",
    ")\n",
    "\n",
    "print(\"\\n📚 Retrieved shared memory:\")\n",
    "for _, row in res.iterrows():\n",
    "    print(\"-\", row[\"content\"])\n"
   ]
  }
 ],
 "metadata": {
  "kernelspec": {
   "display_name": "3.12.4",
   "language": "python",
   "name": "python3"
  },
  "language_info": {
   "codemirror_mode": {
    "name": "ipython",
    "version": 3
   },
   "file_extension": ".py",
   "mimetype": "text/x-python",
   "name": "python",
   "nbconvert_exporter": "python",
   "pygments_lexer": "ipython3",
   "version": "3.12.4"
  }
 },
 "nbformat": 4,
 "nbformat_minor": 2
}
